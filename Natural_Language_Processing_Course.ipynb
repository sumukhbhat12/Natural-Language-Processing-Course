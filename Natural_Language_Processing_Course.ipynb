{
  "nbformat": 4,
  "nbformat_minor": 0,
  "metadata": {
    "colab": {
      "provenance": [],
      "authorship_tag": "ABX9TyMclVnH3tYYvyLJfOeKf5KB",
      "include_colab_link": true
    },
    "kernelspec": {
      "name": "python3",
      "display_name": "Python 3"
    },
    "language_info": {
      "name": "python"
    }
  },
  "cells": [
    {
      "cell_type": "markdown",
      "metadata": {
        "id": "view-in-github",
        "colab_type": "text"
      },
      "source": [
        "<a href=\"https://colab.research.google.com/github/sumukhbhat12/Natural-Language-Processing-Course/blob/main/Natural_Language_Processing_Course.ipynb\" target=\"_parent\"><img src=\"https://colab.research.google.com/assets/colab-badge.svg\" alt=\"Open In Colab\"/></a>"
      ]
    },
    {
      "cell_type": "markdown",
      "source": [
        "**Read PDF file with python**"
      ],
      "metadata": {
        "id": "yM-MluC-IM2_"
      }
    },
    {
      "cell_type": "code",
      "execution_count": null,
      "metadata": {
        "id": "_XXzNP6KHtjh"
      },
      "outputs": [],
      "source": [
        "!pip install PyPDF2"
      ]
    },
    {
      "cell_type": "code",
      "source": [
        "import PyPDF2\n",
        "\n",
        "data = open('/content/4NM19CS198_Internship_Report.pdf','rb')\n",
        "\n",
        "reader = PyPDF2.PdfReader(data)\n",
        "\n",
        "# print(reader)\n",
        "\n",
        "# Printing Number of Pages in the PDF file\n",
        "print(len(reader.pages))\n",
        "\n",
        "#Create a page object\n",
        "page = reader.pages[4]\n",
        "# print(page)\n",
        "\n",
        "# Extracting the text from the page\n",
        "print(page.extract_text())\n",
        "\n",
        "data.close()"
      ],
      "metadata": {
        "id": "Kx2Agea6Izyq"
      },
      "execution_count": null,
      "outputs": []
    },
    {
      "cell_type": "markdown",
      "source": [
        "**Data Cleaning**"
      ],
      "metadata": {
        "id": "YS8t0FFDCn8I"
      }
    },
    {
      "cell_type": "code",
      "source": [
        "import numpy as np\n",
        "import pandas as pd\n",
        "\n",
        "movie_dataset = pd.read_csv('/content/movies.csv')\n",
        "\n",
        "# print(movie_dataset.head(10))\n",
        "\n",
        "# print(movie_dataset.columns)\n",
        "\n",
        "# print(movie_dataset.shape)\n",
        "\n",
        "# movie_dataset.describe()\n",
        "\n",
        "# movie_dataset.isnull().sum()\n",
        "\n",
        "# The Gross column has null for most of the values, hence drop the column\n",
        "movie_dataset = movie_dataset.drop(['Gross'],axis=1)\n",
        "\n",
        "# Now Drop the data points with null values in any of its attributes\n",
        "data = movie_dataset.dropna()\n",
        "\n",
        "print(data.columns)\n",
        "\n",
        "# data.shape\n",
        "# data.isnull().sum()"
      ],
      "metadata": {
        "colab": {
          "base_uri": "https://localhost:8080/"
        },
        "id": "TNevC-pRCviP",
        "outputId": "65b7d932-4548-445b-9f5f-54638709da9e"
      },
      "execution_count": 19,
      "outputs": [
        {
          "output_type": "stream",
          "name": "stdout",
          "text": [
            "Index(['MOVIES', 'YEAR', 'GENRE', 'RATING', 'ONE-LINE', 'STARS', 'VOTES',\n",
            "       'RunTime'],\n",
            "      dtype='object')\n"
          ]
        }
      ]
    }
  ]
}