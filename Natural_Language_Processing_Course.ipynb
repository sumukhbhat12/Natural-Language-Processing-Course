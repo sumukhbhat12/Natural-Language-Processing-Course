{
  "nbformat": 4,
  "nbformat_minor": 0,
  "metadata": {
    "colab": {
      "provenance": [],
      "authorship_tag": "ABX9TyND2nDrBFaXoNm6D/xqmf9d",
      "include_colab_link": true
    },
    "kernelspec": {
      "name": "python3",
      "display_name": "Python 3"
    },
    "language_info": {
      "name": "python"
    }
  },
  "cells": [
    {
      "cell_type": "markdown",
      "metadata": {
        "id": "view-in-github",
        "colab_type": "text"
      },
      "source": [
        "<a href=\"https://colab.research.google.com/github/sumukhbhat12/Natural-Language-Processing-Course/blob/main/Natural_Language_Processing_Course.ipynb\" target=\"_parent\"><img src=\"https://colab.research.google.com/assets/colab-badge.svg\" alt=\"Open In Colab\"/></a>"
      ]
    },
    {
      "cell_type": "markdown",
      "source": [
        "**Read PDF file with python**"
      ],
      "metadata": {
        "id": "yM-MluC-IM2_"
      }
    },
    {
      "cell_type": "code",
      "execution_count": null,
      "metadata": {
        "id": "_XXzNP6KHtjh"
      },
      "outputs": [],
      "source": [
        "!pip install PyPDF2"
      ]
    },
    {
      "cell_type": "code",
      "source": [
        "import PyPDF2\n",
        "\n",
        "data = open('/content/4NM19CS198_Internship_Report.pdf','rb')\n",
        "\n",
        "reader = PyPDF2.PdfReader(data)\n",
        "\n",
        "# print(reader)\n",
        "\n",
        "# Printing Number of Pages in the PDF file\n",
        "print(len(reader.pages))\n",
        "\n",
        "#Create a page object\n",
        "page = reader.pages[4]\n",
        "# print(page)\n",
        "\n",
        "# Extracting the text from the page\n",
        "print(page.extract_text())\n",
        "\n",
        "data.close()"
      ],
      "metadata": {
        "id": "Kx2Agea6Izyq"
      },
      "execution_count": null,
      "outputs": []
    },
    {
      "cell_type": "markdown",
      "source": [
        "**Data Cleaning**"
      ],
      "metadata": {
        "id": "YS8t0FFDCn8I"
      }
    },
    {
      "cell_type": "code",
      "source": [
        "import numpy as np\n",
        "import pandas as pd\n",
        "\n",
        "movie_dataset = pd.read_csv('/content/movies.csv')\n",
        "\n",
        "# print(movie_dataset.head(10))\n",
        "\n",
        "# print(movie_dataset.columns)\n",
        "\n",
        "# print(movie_dataset.shape)\n",
        "\n",
        "# movie_dataset.describe()\n",
        "\n",
        "# movie_dataset.isnull().sum()\n",
        "\n",
        "# The Gross column has null for most of the values, hence drop the column\n",
        "movie_dataset = movie_dataset.drop(['Gross'],axis=1)\n",
        "\n",
        "# Now Drop the data points with null values in any of its attributes\n",
        "data = movie_dataset.dropna()\n",
        "\n",
        "print(data.columns)\n",
        "\n",
        "# data.shape\n",
        "# data.isnull().sum()"
      ],
      "metadata": {
        "colab": {
          "base_uri": "https://localhost:8080/"
        },
        "id": "TNevC-pRCviP",
        "outputId": "65b7d932-4548-445b-9f5f-54638709da9e"
      },
      "execution_count": 19,
      "outputs": [
        {
          "output_type": "stream",
          "name": "stdout",
          "text": [
            "Index(['MOVIES', 'YEAR', 'GENRE', 'RATING', 'ONE-LINE', 'STARS', 'VOTES',\n",
            "       'RunTime'],\n",
            "      dtype='object')\n"
          ]
        }
      ]
    },
    {
      "cell_type": "markdown",
      "source": [
        "**Line Tokenization**"
      ],
      "metadata": {
        "id": "MCi-wSvAIbbx"
      }
    },
    {
      "cell_type": "code",
      "source": [
        "import nltk\n",
        "# download punkt everytime you execute this block for the first time\n",
        "nltk.download('punkt')\n",
        "\n",
        "text = 'My favourite movies are Kung Fu Panda 1 and 2. 3rd one is not too bad either'\n",
        "tokens = nltk.sent_tokenize(text)\n",
        "print(tokens)"
      ],
      "metadata": {
        "colab": {
          "base_uri": "https://localhost:8080/"
        },
        "id": "nzPTUpiVIfIc",
        "outputId": "d6883c9e-0c89-4a0f-e023-7c88c5d08a8f"
      },
      "execution_count": 3,
      "outputs": [
        {
          "output_type": "stream",
          "name": "stderr",
          "text": [
            "[nltk_data] Downloading package punkt to /root/nltk_data...\n",
            "[nltk_data]   Unzipping tokenizers/punkt.zip.\n"
          ]
        },
        {
          "output_type": "stream",
          "name": "stdout",
          "text": [
            "['My favourite movies are Kung Fu Panda 1 and 2.', '3rd one is not too bad either']\n"
          ]
        }
      ]
    },
    {
      "cell_type": "markdown",
      "source": [
        "**Word Tokenization**"
      ],
      "metadata": {
        "id": "EsL-bPheKO9W"
      }
    },
    {
      "cell_type": "code",
      "source": [
        "#Import nltk and download punkt for this if needed\n",
        "tokens = nltk.word_tokenize(text)\n",
        "print(tokens)\n",
        "print(len(tokens))"
      ],
      "metadata": {
        "colab": {
          "base_uri": "https://localhost:8080/"
        },
        "id": "m5KcdheTKSD5",
        "outputId": "bfd80840-3032-4f6c-cd2f-1b809ff83fee"
      },
      "execution_count": 4,
      "outputs": [
        {
          "output_type": "stream",
          "name": "stdout",
          "text": [
            "['My', 'favourite', 'movies', 'are', 'Kung', 'Fu', 'Panda', '1', 'and', '2', '.', '3rd', 'one', 'is', 'not', 'too', 'bad', 'either']\n",
            "18\n"
          ]
        }
      ]
    },
    {
      "cell_type": "markdown",
      "source": [
        "**Stemming**"
      ],
      "metadata": {
        "id": "RkG73gGgLNBW"
      }
    },
    {
      "cell_type": "code",
      "source": [
        "from nltk.stem import PorterStemmer\n",
        "\n",
        "portstem = PorterStemmer()\n",
        "\n",
        "words = ['smiling', 'talks', 'played', 'joyous', 'joys', 'smiles', 'sadness', 'sons', 'socks']\n",
        "\n",
        "for i in words:\n",
        "  print(i,\" : \", portstem.stem(i))"
      ],
      "metadata": {
        "colab": {
          "base_uri": "https://localhost:8080/"
        },
        "id": "d8Z85zYoLT3c",
        "outputId": "914f52f1-67ae-4919-e40e-03e2c3137cb0"
      },
      "execution_count": 8,
      "outputs": [
        {
          "output_type": "stream",
          "name": "stdout",
          "text": [
            "smiling  :  smile\n",
            "talks  :  talk\n",
            "played  :  play\n",
            "joyous  :  joyou\n",
            "joys  :  joy\n",
            "smiles  :  smile\n",
            "sadness  :  sad\n",
            "sons  :  son\n",
            "socks  :  sock\n"
          ]
        }
      ]
    },
    {
      "cell_type": "markdown",
      "source": [
        "**Lemmatization**"
      ],
      "metadata": {
        "id": "LHOGoVsWrLdV"
      }
    },
    {
      "cell_type": "code",
      "source": [
        "nltk.download('wordnet')\n",
        "\n",
        "from nltk.stem import WordNetLemmatizer\n",
        "\n",
        "lemma = WordNetLemmatizer()\n",
        "\n",
        "for i in words:\n",
        "  print(i,\" : \", lemma.lemmatize(i))"
      ],
      "metadata": {
        "colab": {
          "base_uri": "https://localhost:8080/"
        },
        "id": "c95jOwY8rQFL",
        "outputId": "912b71c5-53de-43ba-9e55-1cf8c320f843"
      },
      "execution_count": 9,
      "outputs": [
        {
          "output_type": "stream",
          "name": "stdout",
          "text": [
            "smiling  :  smiling\n",
            "talks  :  talk\n",
            "played  :  played\n",
            "joyous  :  joyous\n",
            "joys  :  joy\n",
            "smiles  :  smile\n",
            "sadness  :  sadness\n",
            "sons  :  son\n",
            "socks  :  sock\n"
          ]
        },
        {
          "output_type": "stream",
          "name": "stderr",
          "text": [
            "[nltk_data] Downloading package wordnet to /root/nltk_data...\n",
            "[nltk_data]   Package wordnet is already up-to-date!\n"
          ]
        }
      ]
    },
    {
      "cell_type": "markdown",
      "source": [
        "**Stop Words**"
      ],
      "metadata": {
        "id": "4D_hRJJduEQy"
      }
    },
    {
      "cell_type": "code",
      "source": [
        "from nltk.corpus import stopwords\n",
        "import nltk\n",
        "nltk.download('stopwords')\n",
        "\n",
        "data = 'The satisfaction that comes with completing a task would be incomplete without mentioning all of the people without whom this endeavor would have been difficult to complete. Their ongoing blessings, support, wisdom, and suggestions have been a source of constant inspiration'\n",
        "\n",
        "stop_word = set(stopwords.words('english'))\n",
        "\n",
        "# print(stop_word)\n",
        "# print(stopwords.words())\n",
        "\n",
        "# Tokenize the data first\n",
        "data = nltk.word_tokenize(data)\n",
        "\n",
        "# print(data)\n",
        "\n",
        "# for word in data:\n",
        "#   if word in stop_word:\n",
        "#     print(word)\n",
        "\n"
      ],
      "metadata": {
        "colab": {
          "base_uri": "https://localhost:8080/"
        },
        "id": "N0IYz8wuuKUd",
        "outputId": "b326c07b-d082-44f8-f0f5-96ec4af7db5a"
      },
      "execution_count": 13,
      "outputs": [
        {
          "output_type": "stream",
          "name": "stdout",
          "text": [
            "that\n",
            "with\n",
            "a\n",
            "be\n",
            "all\n",
            "of\n",
            "the\n",
            "whom\n",
            "this\n",
            "have\n",
            "been\n",
            "to\n",
            "and\n",
            "have\n",
            "been\n",
            "a\n",
            "of\n"
          ]
        },
        {
          "output_type": "stream",
          "name": "stderr",
          "text": [
            "[nltk_data] Downloading package stopwords to /root/nltk_data...\n",
            "[nltk_data]   Package stopwords is already up-to-date!\n"
          ]
        }
      ]
    },
    {
      "cell_type": "markdown",
      "source": [
        "**TextBlob**"
      ],
      "metadata": {
        "id": "7olMsgatxD0B"
      }
    },
    {
      "cell_type": "code",
      "source": [
        "!pip install nltk\n",
        "!pip install textblob"
      ],
      "metadata": {
        "colab": {
          "base_uri": "https://localhost:8080/"
        },
        "id": "AHgyAD49xGpM",
        "outputId": "d77583e7-ca32-4d2e-94e0-4156eec6660e"
      },
      "execution_count": 1,
      "outputs": [
        {
          "output_type": "stream",
          "name": "stdout",
          "text": [
            "Looking in indexes: https://pypi.org/simple, https://us-python.pkg.dev/colab-wheels/public/simple/\n",
            "Requirement already satisfied: nltk in /usr/local/lib/python3.10/dist-packages (3.8.1)\n",
            "Requirement already satisfied: click in /usr/local/lib/python3.10/dist-packages (from nltk) (8.1.3)\n",
            "Requirement already satisfied: joblib in /usr/local/lib/python3.10/dist-packages (from nltk) (1.2.0)\n",
            "Requirement already satisfied: regex>=2021.8.3 in /usr/local/lib/python3.10/dist-packages (from nltk) (2022.10.31)\n",
            "Requirement already satisfied: tqdm in /usr/local/lib/python3.10/dist-packages (from nltk) (4.65.0)\n",
            "Looking in indexes: https://pypi.org/simple, https://us-python.pkg.dev/colab-wheels/public/simple/\n",
            "Requirement already satisfied: textblob in /usr/local/lib/python3.10/dist-packages (0.17.1)\n",
            "Requirement already satisfied: nltk>=3.1 in /usr/local/lib/python3.10/dist-packages (from textblob) (3.8.1)\n",
            "Requirement already satisfied: click in /usr/local/lib/python3.10/dist-packages (from nltk>=3.1->textblob) (8.1.3)\n",
            "Requirement already satisfied: joblib in /usr/local/lib/python3.10/dist-packages (from nltk>=3.1->textblob) (1.2.0)\n",
            "Requirement already satisfied: regex>=2021.8.3 in /usr/local/lib/python3.10/dist-packages (from nltk>=3.1->textblob) (2022.10.31)\n",
            "Requirement already satisfied: tqdm in /usr/local/lib/python3.10/dist-packages (from nltk>=3.1->textblob) (4.65.0)\n"
          ]
        }
      ]
    },
    {
      "cell_type": "code",
      "source": [
        "import nltk\n",
        "nltk.download('popular')"
      ],
      "metadata": {
        "id": "A_3Rl4ZHxdaA"
      },
      "execution_count": null,
      "outputs": []
    },
    {
      "cell_type": "code",
      "source": [
        "nltk.download('averaged_perceptron_tagger')"
      ],
      "metadata": {
        "colab": {
          "base_uri": "https://localhost:8080/"
        },
        "id": "cRehkSNHxz6j",
        "outputId": "fa06c685-5eac-484c-9e63-ee83f7f0b0c0"
      },
      "execution_count": 3,
      "outputs": [
        {
          "output_type": "stream",
          "name": "stderr",
          "text": [
            "[nltk_data] Downloading package averaged_perceptron_tagger to\n",
            "[nltk_data]     /root/nltk_data...\n",
            "[nltk_data]   Package averaged_perceptron_tagger is already up-to-\n",
            "[nltk_data]       date!\n"
          ]
        },
        {
          "output_type": "execute_result",
          "data": {
            "text/plain": [
              "True"
            ]
          },
          "metadata": {},
          "execution_count": 3
        }
      ]
    },
    {
      "cell_type": "markdown",
      "source": [
        "**Language Detection**"
      ],
      "metadata": {
        "id": "Rc9qbIjFy0k_"
      }
    },
    {
      "cell_type": "code",
      "source": [
        "from textblob import TextBlob\n",
        "\n",
        "blob = TextBlob('Hey Sumukh, What are you doing?')\n",
        "\n",
        "# both detect_language() and translate() are deprecated and give bad request 400 error\n",
        "# print('Language : ', blob.detect_language())\n",
        "\n",
        "# print('In Spanish : ', blob.translate(to='es'))"
      ],
      "metadata": {
        "id": "YNsJNtDXy4Oj"
      },
      "execution_count": 6,
      "outputs": []
    },
    {
      "cell_type": "markdown",
      "source": [
        "**Spelling Correction**"
      ],
      "metadata": {
        "id": "1t1atPfj04D4"
      }
    },
    {
      "cell_type": "code",
      "source": [
        "from textblob import TextBlob\n",
        "\n",
        "text = \"Hey Sumukh, howe arr yu? what aee you doig?\"\n",
        "\n",
        "blob = TextBlob(text)\n",
        "print(blob.correct())\n",
        "\n"
      ],
      "metadata": {
        "colab": {
          "base_uri": "https://localhost:8080/"
        },
        "id": "cWuG9hbV1CK7",
        "outputId": "ce77a068-3a0a-46b3-bcc7-8265a97b6bf2"
      },
      "execution_count": 11,
      "outputs": [
        {
          "output_type": "stream",
          "name": "stdout",
          "text": [
            "Key Sumukh, howe are you? what are you doing?\n"
          ]
        }
      ]
    },
    {
      "cell_type": "markdown",
      "source": [
        "**Word Count**"
      ],
      "metadata": {
        "id": "iWrffCr22Na4"
      }
    },
    {
      "cell_type": "code",
      "source": [
        "from textblob import TextBlob"
      ],
      "metadata": {
        "id": "R1ZXyI603IXv"
      },
      "execution_count": 12,
      "outputs": []
    },
    {
      "cell_type": "code",
      "source": [
        "text = 'Hey Sumukh, what are you doing tonight? Let us go to a movie if you are free. Yes, I am free tonight, by the way, what movie do you want to watch ? Let us watch Fast and Furious X'\n",
        "\n",
        "blob = TextBlob(text)\n",
        "\n",
        "print(blob.word_counts['what'])\n",
        "\n",
        "print(blob.word_counts['go'])\n",
        "\n",
        "print(blob.word_counts['you'])"
      ],
      "metadata": {
        "colab": {
          "base_uri": "https://localhost:8080/"
        },
        "id": "vHoWQVyH2PaU",
        "outputId": "ac6592cb-21cf-4b6d-af76-3efb1c7d2368"
      },
      "execution_count": 16,
      "outputs": [
        {
          "output_type": "stream",
          "name": "stdout",
          "text": [
            "2\n",
            "1\n",
            "3\n"
          ]
        }
      ]
    },
    {
      "cell_type": "markdown",
      "source": [
        "**Parts of Speech (POS) Tagging**"
      ],
      "metadata": {
        "id": "N43lVZNu3lNS"
      }
    },
    {
      "cell_type": "code",
      "source": [
        "from textblob import TextBlob"
      ],
      "metadata": {
        "id": "54kjc0C635J3"
      },
      "execution_count": 17,
      "outputs": []
    },
    {
      "cell_type": "code",
      "source": [
        "text = 'Hey Sumukh, what are you doing tonight? Let us go to a movie if you are free. Yes, I am free tonight, by the way, what movie do you want to watch ? Let us watch Fast and Furious X'\n",
        "\n",
        "blob = TextBlob(text)\n",
        "\n",
        "print(blob.tags)"
      ],
      "metadata": {
        "colab": {
          "base_uri": "https://localhost:8080/"
        },
        "id": "ymQN4pd43nz9",
        "outputId": "e107af7d-aa2b-45ed-b719-5cef055babf5"
      },
      "execution_count": 18,
      "outputs": [
        {
          "output_type": "stream",
          "name": "stdout",
          "text": [
            "[('Hey', 'NNP'), ('Sumukh', 'NNP'), ('what', 'WP'), ('are', 'VBP'), ('you', 'PRP'), ('doing', 'VBG'), ('tonight', 'VBN'), ('Let', 'VB'), ('us', 'PRP'), ('go', 'VB'), ('to', 'TO'), ('a', 'DT'), ('movie', 'NN'), ('if', 'IN'), ('you', 'PRP'), ('are', 'VBP'), ('free', 'JJ'), ('Yes', 'UH'), ('I', 'PRP'), ('am', 'VBP'), ('free', 'JJ'), ('tonight', 'NN'), ('by', 'IN'), ('the', 'DT'), ('way', 'NN'), ('what', 'WP'), ('movie', 'NN'), ('do', 'VBP'), ('you', 'PRP'), ('want', 'VB'), ('to', 'TO'), ('watch', 'VB'), ('Let', 'VB'), ('us', 'PRP'), ('watch', 'VB'), ('Fast', 'NNP'), ('and', 'CC'), ('Furious', 'NNP'), ('X', 'NNP')]\n"
          ]
        }
      ]
    },
    {
      "cell_type": "markdown",
      "source": [
        "**Tokenization**"
      ],
      "metadata": {
        "id": "u_JIng-_5Bl1"
      }
    },
    {
      "cell_type": "code",
      "source": [
        "from textblob import TextBlob"
      ],
      "metadata": {
        "id": "y9qbGf675D9n"
      },
      "execution_count": null,
      "outputs": []
    },
    {
      "cell_type": "code",
      "source": [
        "text = 'Hey Sumukh, what are you doing tonight? Let us go to a movie if you are free. Yes, I am free tonight, by the way, what movie do you want to watch ? Let us watch Fast and Furious X'\n",
        "\n",
        "blob = TextBlob(text)\n",
        "\n",
        "print(blob.words)\n",
        "\n",
        "print(blob.sentences)"
      ],
      "metadata": {
        "colab": {
          "base_uri": "https://localhost:8080/"
        },
        "id": "Um5bIEgU5Jp0",
        "outputId": "bd6ba88d-30f8-4199-fd80-a32a0964a47b"
      },
      "execution_count": 20,
      "outputs": [
        {
          "output_type": "stream",
          "name": "stdout",
          "text": [
            "['Hey', 'Sumukh', 'what', 'are', 'you', 'doing', 'tonight', 'Let', 'us', 'go', 'to', 'a', 'movie', 'if', 'you', 'are', 'free', 'Yes', 'I', 'am', 'free', 'tonight', 'by', 'the', 'way', 'what', 'movie', 'do', 'you', 'want', 'to', 'watch', 'Let', 'us', 'watch', 'Fast', 'and', 'Furious', 'X']\n",
            "[Sentence(\"Hey Sumukh, what are you doing tonight?\"), Sentence(\"Let us go to a movie if you are free.\"), Sentence(\"Yes, I am free tonight, by the way, what movie do you want to watch ?\"), Sentence(\"Let us watch Fast and Furious X\")]\n"
          ]
        }
      ]
    },
    {
      "cell_type": "markdown",
      "source": [
        "**Pluralization**"
      ],
      "metadata": {
        "id": "IN3pzNgp5rOr"
      }
    },
    {
      "cell_type": "code",
      "source": [
        "from textblob import TextBlob, Word"
      ],
      "metadata": {
        "id": "V-qyolYr5uhf"
      },
      "execution_count": 22,
      "outputs": []
    },
    {
      "cell_type": "code",
      "source": [
        "text = 'Hey Sumukh, what are you doing tonight? Let us go to a movie if you are free. Yes, I am free tonight, by the way, what movie do you want to watch ? Let us watch Fast and Furious X'\n",
        "\n",
        "blob = TextBlob(text)\n",
        "\n",
        "for word,pos in blob.tags:\n",
        "  if pos == 'NN':\n",
        "    print(word.pluralize())"
      ],
      "metadata": {
        "colab": {
          "base_uri": "https://localhost:8080/"
        },
        "id": "-9GXsOzK5zrc",
        "outputId": "f8c36901-c81b-435c-95ef-639907f25f5b"
      },
      "execution_count": 23,
      "outputs": [
        {
          "output_type": "stream",
          "name": "stdout",
          "text": [
            "movies\n",
            "tonights\n",
            "ways\n",
            "movies\n"
          ]
        }
      ]
    },
    {
      "cell_type": "markdown",
      "source": [
        "**Lemmatization**"
      ],
      "metadata": {
        "id": "-v-CtZCJ6XLD"
      }
    },
    {
      "cell_type": "code",
      "source": [
        "from textblob import TextBlob"
      ],
      "metadata": {
        "id": "8rhxL1W96aos"
      },
      "execution_count": null,
      "outputs": []
    },
    {
      "cell_type": "code",
      "source": [
        "text = 'Hey Sumukh, what are you doing tonight? Let us go to a movie if you are free. Yes, I am free tonight, by the way, what movie do you want to watch ? Let us watch Fast and Furious X'\n",
        "\n",
        "blob = TextBlob(text)\n",
        "\n",
        "words = blob.words\n",
        "\n",
        "for word in words:\n",
        "  print('Original : ', word, \"| Lemma : \", word.lemmatize(), '| Stem : ', word.stem())"
      ],
      "metadata": {
        "colab": {
          "base_uri": "https://localhost:8080/"
        },
        "id": "vE6ExGEb6fD8",
        "outputId": "ece31b5e-de4b-46c6-8b8e-253b4c802a63"
      },
      "execution_count": 24,
      "outputs": [
        {
          "output_type": "stream",
          "name": "stdout",
          "text": [
            "Original :  Hey | Lemma :  Hey | Stem :  hey\n",
            "Original :  Sumukh | Lemma :  Sumukh | Stem :  sumukh\n",
            "Original :  what | Lemma :  what | Stem :  what\n",
            "Original :  are | Lemma :  are | Stem :  are\n",
            "Original :  you | Lemma :  you | Stem :  you\n",
            "Original :  doing | Lemma :  doing | Stem :  do\n",
            "Original :  tonight | Lemma :  tonight | Stem :  tonight\n",
            "Original :  Let | Lemma :  Let | Stem :  let\n",
            "Original :  us | Lemma :  u | Stem :  us\n",
            "Original :  go | Lemma :  go | Stem :  go\n",
            "Original :  to | Lemma :  to | Stem :  to\n",
            "Original :  a | Lemma :  a | Stem :  a\n",
            "Original :  movie | Lemma :  movie | Stem :  movi\n",
            "Original :  if | Lemma :  if | Stem :  if\n",
            "Original :  you | Lemma :  you | Stem :  you\n",
            "Original :  are | Lemma :  are | Stem :  are\n",
            "Original :  free | Lemma :  free | Stem :  free\n",
            "Original :  Yes | Lemma :  Yes | Stem :  ye\n",
            "Original :  I | Lemma :  I | Stem :  i\n",
            "Original :  am | Lemma :  am | Stem :  am\n",
            "Original :  free | Lemma :  free | Stem :  free\n",
            "Original :  tonight | Lemma :  tonight | Stem :  tonight\n",
            "Original :  by | Lemma :  by | Stem :  by\n",
            "Original :  the | Lemma :  the | Stem :  the\n",
            "Original :  way | Lemma :  way | Stem :  way\n",
            "Original :  what | Lemma :  what | Stem :  what\n",
            "Original :  movie | Lemma :  movie | Stem :  movi\n",
            "Original :  do | Lemma :  do | Stem :  do\n",
            "Original :  you | Lemma :  you | Stem :  you\n",
            "Original :  want | Lemma :  want | Stem :  want\n",
            "Original :  to | Lemma :  to | Stem :  to\n",
            "Original :  watch | Lemma :  watch | Stem :  watch\n",
            "Original :  Let | Lemma :  Let | Stem :  let\n",
            "Original :  us | Lemma :  u | Stem :  us\n",
            "Original :  watch | Lemma :  watch | Stem :  watch\n",
            "Original :  Fast | Lemma :  Fast | Stem :  fast\n",
            "Original :  and | Lemma :  and | Stem :  and\n",
            "Original :  Furious | Lemma :  Furious | Stem :  furiou\n",
            "Original :  X | Lemma :  X | Stem :  x\n"
          ]
        }
      ]
    },
    {
      "cell_type": "markdown",
      "source": [
        "**N-gram**"
      ],
      "metadata": {
        "id": "SEVNmiXf7VOs"
      }
    },
    {
      "cell_type": "code",
      "source": [
        "from textblob import TextBlob"
      ],
      "metadata": {
        "id": "CElJNfOx7lpm"
      },
      "execution_count": null,
      "outputs": []
    },
    {
      "cell_type": "code",
      "source": [
        "text = 'Hey Sumukh, what are you doing tonight? Let us go to a movie if you are free. Yes, I am free tonight, by the way, what movie do you want to watch ? Let us watch Fast and Furious X'\n",
        "\n",
        "blob = TextBlob(text)\n",
        "\n",
        "print(blob.ngrams(n=1))\n",
        "\n",
        "print(blob.ngrams(n=2))\n",
        "\n",
        "print(blob.ngrams(n=3))"
      ],
      "metadata": {
        "colab": {
          "base_uri": "https://localhost:8080/"
        },
        "id": "8PSR4Xoe7rL7",
        "outputId": "98dad73c-9689-4fbf-f661-c0cedfafdee6"
      },
      "execution_count": 25,
      "outputs": [
        {
          "output_type": "stream",
          "name": "stdout",
          "text": [
            "[WordList(['Hey']), WordList(['Sumukh']), WordList(['what']), WordList(['are']), WordList(['you']), WordList(['doing']), WordList(['tonight']), WordList(['Let']), WordList(['us']), WordList(['go']), WordList(['to']), WordList(['a']), WordList(['movie']), WordList(['if']), WordList(['you']), WordList(['are']), WordList(['free']), WordList(['Yes']), WordList(['I']), WordList(['am']), WordList(['free']), WordList(['tonight']), WordList(['by']), WordList(['the']), WordList(['way']), WordList(['what']), WordList(['movie']), WordList(['do']), WordList(['you']), WordList(['want']), WordList(['to']), WordList(['watch']), WordList(['Let']), WordList(['us']), WordList(['watch']), WordList(['Fast']), WordList(['and']), WordList(['Furious']), WordList(['X'])]\n",
            "[WordList(['Hey', 'Sumukh']), WordList(['Sumukh', 'what']), WordList(['what', 'are']), WordList(['are', 'you']), WordList(['you', 'doing']), WordList(['doing', 'tonight']), WordList(['tonight', 'Let']), WordList(['Let', 'us']), WordList(['us', 'go']), WordList(['go', 'to']), WordList(['to', 'a']), WordList(['a', 'movie']), WordList(['movie', 'if']), WordList(['if', 'you']), WordList(['you', 'are']), WordList(['are', 'free']), WordList(['free', 'Yes']), WordList(['Yes', 'I']), WordList(['I', 'am']), WordList(['am', 'free']), WordList(['free', 'tonight']), WordList(['tonight', 'by']), WordList(['by', 'the']), WordList(['the', 'way']), WordList(['way', 'what']), WordList(['what', 'movie']), WordList(['movie', 'do']), WordList(['do', 'you']), WordList(['you', 'want']), WordList(['want', 'to']), WordList(['to', 'watch']), WordList(['watch', 'Let']), WordList(['Let', 'us']), WordList(['us', 'watch']), WordList(['watch', 'Fast']), WordList(['Fast', 'and']), WordList(['and', 'Furious']), WordList(['Furious', 'X'])]\n",
            "[WordList(['Hey', 'Sumukh', 'what']), WordList(['Sumukh', 'what', 'are']), WordList(['what', 'are', 'you']), WordList(['are', 'you', 'doing']), WordList(['you', 'doing', 'tonight']), WordList(['doing', 'tonight', 'Let']), WordList(['tonight', 'Let', 'us']), WordList(['Let', 'us', 'go']), WordList(['us', 'go', 'to']), WordList(['go', 'to', 'a']), WordList(['to', 'a', 'movie']), WordList(['a', 'movie', 'if']), WordList(['movie', 'if', 'you']), WordList(['if', 'you', 'are']), WordList(['you', 'are', 'free']), WordList(['are', 'free', 'Yes']), WordList(['free', 'Yes', 'I']), WordList(['Yes', 'I', 'am']), WordList(['I', 'am', 'free']), WordList(['am', 'free', 'tonight']), WordList(['free', 'tonight', 'by']), WordList(['tonight', 'by', 'the']), WordList(['by', 'the', 'way']), WordList(['the', 'way', 'what']), WordList(['way', 'what', 'movie']), WordList(['what', 'movie', 'do']), WordList(['movie', 'do', 'you']), WordList(['do', 'you', 'want']), WordList(['you', 'want', 'to']), WordList(['want', 'to', 'watch']), WordList(['to', 'watch', 'Let']), WordList(['watch', 'Let', 'us']), WordList(['Let', 'us', 'watch']), WordList(['us', 'watch', 'Fast']), WordList(['watch', 'Fast', 'and']), WordList(['Fast', 'and', 'Furious']), WordList(['and', 'Furious', 'X'])]\n"
          ]
        }
      ]
    }
  ]
}