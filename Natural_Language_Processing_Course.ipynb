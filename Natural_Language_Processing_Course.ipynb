{
  "nbformat": 4,
  "nbformat_minor": 0,
  "metadata": {
    "colab": {
      "provenance": [],
      "authorship_tag": "ABX9TyOfnqUp69SjPrLv2U/MlODl",
      "include_colab_link": true
    },
    "kernelspec": {
      "name": "python3",
      "display_name": "Python 3"
    },
    "language_info": {
      "name": "python"
    }
  },
  "cells": [
    {
      "cell_type": "markdown",
      "metadata": {
        "id": "view-in-github",
        "colab_type": "text"
      },
      "source": [
        "<a href=\"https://colab.research.google.com/github/sumukhbhat12/Natural-Language-Processing-Course/blob/main/Natural_Language_Processing_Course.ipynb\" target=\"_parent\"><img src=\"https://colab.research.google.com/assets/colab-badge.svg\" alt=\"Open In Colab\"/></a>"
      ]
    },
    {
      "cell_type": "markdown",
      "source": [
        "**Read PDF file with python**"
      ],
      "metadata": {
        "id": "yM-MluC-IM2_"
      }
    },
    {
      "cell_type": "code",
      "execution_count": null,
      "metadata": {
        "id": "_XXzNP6KHtjh"
      },
      "outputs": [],
      "source": [
        "!pip install PyPDF2"
      ]
    },
    {
      "cell_type": "code",
      "source": [
        "import PyPDF2\n",
        "\n",
        "data = open('/content/4NM19CS198_Internship_Report.pdf','rb')\n",
        "\n",
        "reader = PyPDF2.PdfReader(data)\n",
        "\n",
        "# print(reader)\n",
        "\n",
        "# Printing Number of Pages in the PDF file\n",
        "print(len(reader.pages))\n",
        "\n",
        "#Create a page object\n",
        "page = reader.pages[4]\n",
        "# print(page)\n",
        "\n",
        "# Extracting the text from the page\n",
        "print(page.extract_text())\n",
        "\n",
        "data.close()"
      ],
      "metadata": {
        "id": "Kx2Agea6Izyq"
      },
      "execution_count": null,
      "outputs": []
    },
    {
      "cell_type": "markdown",
      "source": [
        "**Data Cleaning**"
      ],
      "metadata": {
        "id": "YS8t0FFDCn8I"
      }
    },
    {
      "cell_type": "code",
      "source": [
        "import numpy as np\n",
        "import pandas as pd\n",
        "\n",
        "movie_dataset = pd.read_csv('/content/movies.csv')\n",
        "\n",
        "# print(movie_dataset.head(10))\n",
        "\n",
        "# print(movie_dataset.columns)\n",
        "\n",
        "# print(movie_dataset.shape)\n",
        "\n",
        "# movie_dataset.describe()\n",
        "\n",
        "# movie_dataset.isnull().sum()\n",
        "\n",
        "# The Gross column has null for most of the values, hence drop the column\n",
        "movie_dataset = movie_dataset.drop(['Gross'],axis=1)\n",
        "\n",
        "# Now Drop the data points with null values in any of its attributes\n",
        "data = movie_dataset.dropna()\n",
        "\n",
        "print(data.columns)\n",
        "\n",
        "# data.shape\n",
        "# data.isnull().sum()"
      ],
      "metadata": {
        "colab": {
          "base_uri": "https://localhost:8080/"
        },
        "id": "TNevC-pRCviP",
        "outputId": "65b7d932-4548-445b-9f5f-54638709da9e"
      },
      "execution_count": 19,
      "outputs": [
        {
          "output_type": "stream",
          "name": "stdout",
          "text": [
            "Index(['MOVIES', 'YEAR', 'GENRE', 'RATING', 'ONE-LINE', 'STARS', 'VOTES',\n",
            "       'RunTime'],\n",
            "      dtype='object')\n"
          ]
        }
      ]
    },
    {
      "cell_type": "markdown",
      "source": [
        "**Line Tokenization**"
      ],
      "metadata": {
        "id": "MCi-wSvAIbbx"
      }
    },
    {
      "cell_type": "code",
      "source": [
        "import nltk\n",
        "# download punkt everytime you execute this block for the first time\n",
        "nltk.download('punkt')\n",
        "\n",
        "text = 'My favourite movies are Kung Fu Panda 1 and 2. 3rd one is not too bad either'\n",
        "tokens = nltk.sent_tokenize(text)\n",
        "print(tokens)"
      ],
      "metadata": {
        "colab": {
          "base_uri": "https://localhost:8080/"
        },
        "id": "nzPTUpiVIfIc",
        "outputId": "d6883c9e-0c89-4a0f-e023-7c88c5d08a8f"
      },
      "execution_count": 3,
      "outputs": [
        {
          "output_type": "stream",
          "name": "stderr",
          "text": [
            "[nltk_data] Downloading package punkt to /root/nltk_data...\n",
            "[nltk_data]   Unzipping tokenizers/punkt.zip.\n"
          ]
        },
        {
          "output_type": "stream",
          "name": "stdout",
          "text": [
            "['My favourite movies are Kung Fu Panda 1 and 2.', '3rd one is not too bad either']\n"
          ]
        }
      ]
    },
    {
      "cell_type": "markdown",
      "source": [
        "**Word Tokenization**"
      ],
      "metadata": {
        "id": "EsL-bPheKO9W"
      }
    },
    {
      "cell_type": "code",
      "source": [
        "#Import nltk and download punkt for this if needed\n",
        "tokens = nltk.word_tokenize(text)\n",
        "print(tokens)\n",
        "print(len(tokens))"
      ],
      "metadata": {
        "colab": {
          "base_uri": "https://localhost:8080/"
        },
        "id": "m5KcdheTKSD5",
        "outputId": "bfd80840-3032-4f6c-cd2f-1b809ff83fee"
      },
      "execution_count": 4,
      "outputs": [
        {
          "output_type": "stream",
          "name": "stdout",
          "text": [
            "['My', 'favourite', 'movies', 'are', 'Kung', 'Fu', 'Panda', '1', 'and', '2', '.', '3rd', 'one', 'is', 'not', 'too', 'bad', 'either']\n",
            "18\n"
          ]
        }
      ]
    },
    {
      "cell_type": "markdown",
      "source": [
        "**Stemming**"
      ],
      "metadata": {
        "id": "RkG73gGgLNBW"
      }
    },
    {
      "cell_type": "code",
      "source": [
        "from nltk.stem import PorterStemmer\n",
        "\n",
        "portstem = PorterStemmer()\n",
        "\n",
        "words = ['smiling', 'talks', 'played', 'joyous', 'joys', 'smiles', 'sadness', 'sons', 'socks']\n",
        "\n",
        "for i in words:\n",
        "  print(i,\" : \", portstem.stem(i))"
      ],
      "metadata": {
        "colab": {
          "base_uri": "https://localhost:8080/"
        },
        "id": "d8Z85zYoLT3c",
        "outputId": "914f52f1-67ae-4919-e40e-03e2c3137cb0"
      },
      "execution_count": 8,
      "outputs": [
        {
          "output_type": "stream",
          "name": "stdout",
          "text": [
            "smiling  :  smile\n",
            "talks  :  talk\n",
            "played  :  play\n",
            "joyous  :  joyou\n",
            "joys  :  joy\n",
            "smiles  :  smile\n",
            "sadness  :  sad\n",
            "sons  :  son\n",
            "socks  :  sock\n"
          ]
        }
      ]
    },
    {
      "cell_type": "markdown",
      "source": [
        "**Lemmatization**"
      ],
      "metadata": {
        "id": "LHOGoVsWrLdV"
      }
    },
    {
      "cell_type": "code",
      "source": [
        "nltk.download('wordnet')\n",
        "\n",
        "from nltk.stem import WordNetLemmatizer\n",
        "\n",
        "lemma = WordNetLemmatizer()\n",
        "\n",
        "for i in words:\n",
        "  print(i,\" : \", lemma.lemmatize(i))"
      ],
      "metadata": {
        "colab": {
          "base_uri": "https://localhost:8080/"
        },
        "id": "c95jOwY8rQFL",
        "outputId": "912b71c5-53de-43ba-9e55-1cf8c320f843"
      },
      "execution_count": 9,
      "outputs": [
        {
          "output_type": "stream",
          "name": "stdout",
          "text": [
            "smiling  :  smiling\n",
            "talks  :  talk\n",
            "played  :  played\n",
            "joyous  :  joyous\n",
            "joys  :  joy\n",
            "smiles  :  smile\n",
            "sadness  :  sadness\n",
            "sons  :  son\n",
            "socks  :  sock\n"
          ]
        },
        {
          "output_type": "stream",
          "name": "stderr",
          "text": [
            "[nltk_data] Downloading package wordnet to /root/nltk_data...\n",
            "[nltk_data]   Package wordnet is already up-to-date!\n"
          ]
        }
      ]
    },
    {
      "cell_type": "markdown",
      "source": [
        "**Stop Words**"
      ],
      "metadata": {
        "id": "4D_hRJJduEQy"
      }
    },
    {
      "cell_type": "code",
      "source": [
        "from nltk.corpus import stopwords\n",
        "import nltk\n",
        "nltk.download('stopwords')\n",
        "\n",
        "data = 'The satisfaction that comes with completing a task would be incomplete without mentioning all of the people without whom this endeavor would have been difficult to complete. Their ongoing blessings, support, wisdom, and suggestions have been a source of constant inspiration'\n",
        "\n",
        "stop_word = set(stopwords.words('english'))\n",
        "\n",
        "# print(stop_word)\n",
        "# print(stopwords.words())\n",
        "\n",
        "# Tokenize the data first\n",
        "data = nltk.word_tokenize(data)\n",
        "\n",
        "# print(data)\n",
        "\n",
        "# for word in data:\n",
        "#   if word in stop_word:\n",
        "#     print(word)\n",
        "\n"
      ],
      "metadata": {
        "colab": {
          "base_uri": "https://localhost:8080/"
        },
        "id": "N0IYz8wuuKUd",
        "outputId": "b326c07b-d082-44f8-f0f5-96ec4af7db5a"
      },
      "execution_count": 13,
      "outputs": [
        {
          "output_type": "stream",
          "name": "stdout",
          "text": [
            "that\n",
            "with\n",
            "a\n",
            "be\n",
            "all\n",
            "of\n",
            "the\n",
            "whom\n",
            "this\n",
            "have\n",
            "been\n",
            "to\n",
            "and\n",
            "have\n",
            "been\n",
            "a\n",
            "of\n"
          ]
        },
        {
          "output_type": "stream",
          "name": "stderr",
          "text": [
            "[nltk_data] Downloading package stopwords to /root/nltk_data...\n",
            "[nltk_data]   Package stopwords is already up-to-date!\n"
          ]
        }
      ]
    }
  ]
}