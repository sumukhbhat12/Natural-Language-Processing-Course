{
  "nbformat": 4,
  "nbformat_minor": 0,
  "metadata": {
    "colab": {
      "provenance": [],
      "authorship_tag": "ABX9TyPFHLuNzqJvs3JqKdkuAEuR",
      "include_colab_link": true
    },
    "kernelspec": {
      "name": "python3",
      "display_name": "Python 3"
    },
    "language_info": {
      "name": "python"
    }
  },
  "cells": [
    {
      "cell_type": "markdown",
      "metadata": {
        "id": "view-in-github",
        "colab_type": "text"
      },
      "source": [
        "<a href=\"https://colab.research.google.com/github/sumukhbhat12/Natural-Language-Processing-Course/blob/main/Natural_Language_Processing_Course.ipynb\" target=\"_parent\"><img src=\"https://colab.research.google.com/assets/colab-badge.svg\" alt=\"Open In Colab\"/></a>"
      ]
    },
    {
      "cell_type": "markdown",
      "source": [
        "**Read PDF file with python**"
      ],
      "metadata": {
        "id": "yM-MluC-IM2_"
      }
    },
    {
      "cell_type": "code",
      "execution_count": null,
      "metadata": {
        "id": "_XXzNP6KHtjh"
      },
      "outputs": [],
      "source": [
        "!pip install PyPDF2"
      ]
    },
    {
      "cell_type": "code",
      "source": [
        "import PyPDF2\n",
        "\n",
        "data = open('/content/4NM19CS198_Internship_Report.pdf','rb')\n",
        "\n",
        "reader = PyPDF2.PdfReader(data)\n",
        "\n",
        "# print(reader)\n",
        "\n",
        "# Printing Number of Pages in the PDF file\n",
        "print(len(reader.pages))\n",
        "\n",
        "#Create a page object\n",
        "page = reader.pages[4]\n",
        "# print(page)\n",
        "\n",
        "# Extracting the text from the page\n",
        "print(page.extract_text())\n",
        "\n",
        "data.close()"
      ],
      "metadata": {
        "id": "Kx2Agea6Izyq"
      },
      "execution_count": null,
      "outputs": []
    },
    {
      "cell_type": "markdown",
      "source": [
        "**Data Cleaning**"
      ],
      "metadata": {
        "id": "YS8t0FFDCn8I"
      }
    },
    {
      "cell_type": "code",
      "source": [
        "import numpy as np\n",
        "import pandas as pd\n",
        "\n",
        "movie_dataset = pd.read_csv('/content/movies.csv')\n",
        "\n",
        "# print(movie_dataset.head(10))\n",
        "\n",
        "# print(movie_dataset.columns)\n",
        "\n",
        "# print(movie_dataset.shape)\n",
        "\n",
        "# movie_dataset.describe()\n",
        "\n",
        "# movie_dataset.isnull().sum()\n",
        "\n",
        "# The Gross column has null for most of the values, hence drop the column\n",
        "movie_dataset = movie_dataset.drop(['Gross'],axis=1)\n",
        "\n",
        "# Now Drop the data points with null values in any of its attributes\n",
        "data = movie_dataset.dropna()\n",
        "\n",
        "print(data.columns)\n",
        "\n",
        "# data.shape\n",
        "# data.isnull().sum()"
      ],
      "metadata": {
        "colab": {
          "base_uri": "https://localhost:8080/"
        },
        "id": "TNevC-pRCviP",
        "outputId": "65b7d932-4548-445b-9f5f-54638709da9e"
      },
      "execution_count": 19,
      "outputs": [
        {
          "output_type": "stream",
          "name": "stdout",
          "text": [
            "Index(['MOVIES', 'YEAR', 'GENRE', 'RATING', 'ONE-LINE', 'STARS', 'VOTES',\n",
            "       'RunTime'],\n",
            "      dtype='object')\n"
          ]
        }
      ]
    },
    {
      "cell_type": "markdown",
      "source": [
        "**Line Tokenization**"
      ],
      "metadata": {
        "id": "MCi-wSvAIbbx"
      }
    },
    {
      "cell_type": "code",
      "source": [
        "import nltk\n",
        "# download punkt everytime you execute this block for the first time\n",
        "# nltk.download('punkt')\n",
        "\n",
        "text = 'My favourite movies are Kung Fu Panda 1 and 2. 3rd one is not too bad either'\n",
        "tokens = nltk.sent_tokenize(text)\n",
        "print(tokens)"
      ],
      "metadata": {
        "colab": {
          "base_uri": "https://localhost:8080/"
        },
        "id": "nzPTUpiVIfIc",
        "outputId": "bbdc053d-a749-4b84-a963-322d4e7adbe0"
      },
      "execution_count": 28,
      "outputs": [
        {
          "output_type": "stream",
          "name": "stdout",
          "text": [
            "['My favourite movies are Kung Fu Panda 1 and 2.', '3rd one is not too bad either']\n"
          ]
        }
      ]
    },
    {
      "cell_type": "markdown",
      "source": [
        "**Word Tokenization**"
      ],
      "metadata": {
        "id": "EsL-bPheKO9W"
      }
    },
    {
      "cell_type": "code",
      "source": [
        "#Import nltk and download punkt for this if needed\n",
        "tokens = nltk.word_tokenize(text)\n",
        "print(tokens)\n",
        "print(len(tokens))"
      ],
      "metadata": {
        "colab": {
          "base_uri": "https://localhost:8080/"
        },
        "id": "m5KcdheTKSD5",
        "outputId": "f286d955-eacb-4941-b6c7-7c90a9367bcd"
      },
      "execution_count": 31,
      "outputs": [
        {
          "output_type": "stream",
          "name": "stdout",
          "text": [
            "['My', 'favourite', 'movies', 'are', 'Kung', 'Fu', 'Panda', '1', 'and', '2', '.', '3rd', 'one', 'is', 'not', 'too', 'bad', 'either']\n",
            "18\n"
          ]
        }
      ]
    },
    {
      "cell_type": "markdown",
      "source": [
        "**Stemming**"
      ],
      "metadata": {
        "id": "RkG73gGgLNBW"
      }
    },
    {
      "cell_type": "code",
      "source": [
        "from nltk.stem import PorterStemmer\n",
        "\n",
        "portstem = PorterStemmer()\n",
        "\n",
        "words = ['smiling', 'talks', 'played', 'joyous', 'joys', 'smiles', 'sadness']\n",
        "\n",
        "for i in words:\n",
        "  print(i,\" : \", portstem.stem(i))"
      ],
      "metadata": {
        "colab": {
          "base_uri": "https://localhost:8080/"
        },
        "id": "d8Z85zYoLT3c",
        "outputId": "5bbaa721-5158-4628-9115-52572b269ea6"
      },
      "execution_count": 36,
      "outputs": [
        {
          "output_type": "stream",
          "name": "stdout",
          "text": [
            "smiling  :  smile\n",
            "talks  :  talk\n",
            "played  :  play\n",
            "joyous  :  joyou\n",
            "joys  :  joy\n",
            "smiles  :  smile\n",
            "sadness  :  sad\n"
          ]
        }
      ]
    }
  ]
}