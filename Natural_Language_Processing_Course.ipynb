{
  "nbformat": 4,
  "nbformat_minor": 0,
  "metadata": {
    "colab": {
      "provenance": [],
      "authorship_tag": "ABX9TyODnUXmbEvZyyjN5bKSDeOy",
      "include_colab_link": true
    },
    "kernelspec": {
      "name": "python3",
      "display_name": "Python 3"
    },
    "language_info": {
      "name": "python"
    }
  },
  "cells": [
    {
      "cell_type": "markdown",
      "metadata": {
        "id": "view-in-github",
        "colab_type": "text"
      },
      "source": [
        "<a href=\"https://colab.research.google.com/github/sumukhbhat12/Natural-Language-Processing-Course/blob/main/Natural_Language_Processing_Course.ipynb\" target=\"_parent\"><img src=\"https://colab.research.google.com/assets/colab-badge.svg\" alt=\"Open In Colab\"/></a>"
      ]
    },
    {
      "cell_type": "markdown",
      "source": [
        "**Read PDF file with python**"
      ],
      "metadata": {
        "id": "yM-MluC-IM2_"
      }
    },
    {
      "cell_type": "code",
      "execution_count": null,
      "metadata": {
        "id": "_XXzNP6KHtjh"
      },
      "outputs": [],
      "source": [
        "!pip install PyPDF2"
      ]
    },
    {
      "cell_type": "code",
      "source": [
        "import PyPDF2\n",
        "\n",
        "data = open('/content/4NM19CS198_Internship_Report.pdf','rb')\n",
        "\n",
        "reader = PyPDF2.PdfReader(data)\n",
        "\n",
        "# print(reader)\n",
        "\n",
        "# Printing Number of Pages in the PDF file\n",
        "print(len(reader.pages))\n",
        "\n",
        "#Create a page object\n",
        "page = reader.pages[4]\n",
        "# print(page)\n",
        "\n",
        "# Extracting the text from the page\n",
        "print(page.extract_text())\n",
        "\n",
        "data.close()"
      ],
      "metadata": {
        "id": "Kx2Agea6Izyq"
      },
      "execution_count": null,
      "outputs": []
    }
  ]
}